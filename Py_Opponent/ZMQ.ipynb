{
 "cells": [
  {
   "cell_type": "code",
   "execution_count": 1,
   "metadata": {},
   "outputs": [],
   "source": [
    "#coding=utf-8\n",
    "import zmq\n",
    "import sys\n",
    "import numpy as np\n",
    "from time import sleep\n",
    "import DQN_Agent_pb2 \n",
    "\n",
    "from agent.main import Agent\n",
    "from emulator.main import Account"
   ]
  },
  {
   "cell_type": "code",
   "execution_count": 3,
   "metadata": {},
   "outputs": [],
   "source": [
    "context = zmq.Context()\n",
    "socket = context.socket(zmq.REQ)\n",
    "socket.connect('ipc:///tmp/dqnagent')\n",
    "\n",
    "i = 0\n",
    "a = DQN_Agent_pb2.Agent_Info()"
   ]
  },
  {
   "cell_type": "code",
   "execution_count": null,
   "metadata": {},
   "outputs": [
    {
     "name": "stdout",
     "output_type": "stream",
     "text": [
      "0\n",
      "1\n"
     ]
    },
    {
     "name": "stderr",
     "output_type": "stream",
     "text": [
      "/usr/local/lib/python3.5/dist-packages/ipykernel_launcher.py:10: RuntimeWarning: Unexpected end-group tag: Not all data was converted\n",
      "  # Remove the CWD from sys.path while we load stuff.\n"
     ]
    },
    {
     "name": "stdout",
     "output_type": "stream",
     "text": [
      "1\n",
      "2\n",
      "2\n",
      "3\n",
      "3\n",
      "4\n",
      "4\n",
      "5\n",
      "5\n",
      "6\n",
      "6\n",
      "7\n",
      "7\n",
      "8\n",
      "8\n",
      "9\n",
      "9\n",
      "10\n",
      "10\n",
      "11\n",
      "11\n",
      "12\n",
      "12\n",
      "13\n",
      "13\n",
      "14\n",
      "14\n",
      "15\n",
      "15\n",
      "16\n",
      "16\n",
      "17\n",
      "17\n",
      "18\n",
      "18\n",
      "19\n",
      "19\n",
      "20\n",
      "20\n"
     ]
    }
   ],
   "source": [
    "while(1):\n",
    "    a.Agent_Action = np.random.randint(3)\n",
    "    a.Agent_Action = 6\n",
    "    msg = a.SerializeToString()\n",
    "    socket.send(msg)\n",
    "    print(i)\n",
    "    i += 1\n",
    "    k = (socket.recv())\n",
    "    #print(k)\n",
    "    a.ParseFromString(k)\n",
    "    print(a.Agent_Action)\n",
    "    sleep(1)\n",
    "    "
   ]
  },
  {
   "cell_type": "code",
   "execution_count": null,
   "metadata": {},
   "outputs": [],
   "source": []
  },
  {
   "cell_type": "code",
   "execution_count": null,
   "metadata": {},
   "outputs": [],
   "source": []
  }
 ],
 "metadata": {
  "kernelspec": {
   "display_name": "Python 3",
   "language": "python",
   "name": "python3"
  },
  "language_info": {
   "codemirror_mode": {
    "name": "ipython",
    "version": 3
   },
   "file_extension": ".py",
   "mimetype": "text/x-python",
   "name": "python",
   "nbconvert_exporter": "python",
   "pygments_lexer": "ipython3",
   "version": "3.5.2"
  }
 },
 "nbformat": 4,
 "nbformat_minor": 2
}
