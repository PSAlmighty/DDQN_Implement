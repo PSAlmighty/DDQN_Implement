{
 "cells": [
  {
   "cell_type": "code",
   "execution_count": 44,
   "metadata": {},
   "outputs": [
    {
     "name": "stdout",
     "output_type": "stream",
     "text": [
      "tensor([[ 1.,  2.]])\n",
      "tensor([ 3.,  4.])\n",
      "tensor([[ 2.],\n",
      "        [ 1.]])\n",
      "tensor([[ 4.]])\n",
      "grad\n",
      "tensor([[ 2.,  1.]])\n",
      "tensor([[ 1.],\n",
      "        [ 2.]])\n"
     ]
    }
   ],
   "source": [
    "import torch\n",
    "import numpy as np\n",
    "from torch.autograd import Variable\n",
    "\n",
    "w1=Variable(torch.FloatTensor([[1,2]]),requires_grad=True)\n",
    "w2=Variable(torch.FloatTensor([3,4]),requires_grad=True)\n",
    "w3=Variable(torch.FloatTensor([[2],[1]]),requires_grad=True)\n",
    "res=w1.mm(w3)\n",
    "   \n",
    "print(w1)\n",
    "print(w2)\n",
    "print(w3)\n",
    "print(res)\n",
    "print('grad')\n",
    "\n",
    "res.backward()\n",
    "print(w1.grad)\n",
    "print(w3.grad)\n"
   ]
  },
  {
   "cell_type": "code",
   "execution_count": 12,
   "metadata": {},
   "outputs": [
    {
     "name": "stdout",
     "output_type": "stream",
     "text": [
      "tensor([ 69.])\n",
      "None\n",
      "tensor([ 23.])\n",
      "None\n",
      "tensor([ 483.])\n"
     ]
    }
   ],
   "source": [
    "\n",
    "import torch\n",
    "import numpy as np\n",
    "from torch.autograd import Variable\n",
    "\n",
    "\n",
    "x=Variable(torch.Tensor([2]),requires_grad=True)\n",
    "z=Variable(torch.Tensor([3]),requires_grad=True)\n",
    "y=x**3 + 3*x**2 +3\n",
    "y.detach_()\n",
    "res=y*z\n",
    "print(res)\n",
    "res.backward(retain_graph=True)\n",
    "print(x.grad)\n",
    "print(z.grad)\n",
    "\n",
    "tar=torch.FloatTensor([20])\n",
    "res.backward(tar,retain_graph=True)\n",
    "print(x.grad)\n",
    "print(z.grad)"
   ]
  },
  {
   "cell_type": "code",
   "execution_count": null,
   "metadata": {},
   "outputs": [],
   "source": []
  },
  {
   "cell_type": "code",
   "execution_count": null,
   "metadata": {},
   "outputs": [],
   "source": []
  },
  {
   "cell_type": "code",
   "execution_count": null,
   "metadata": {},
   "outputs": [],
   "source": []
  },
  {
   "cell_type": "code",
   "execution_count": null,
   "metadata": {},
   "outputs": [],
   "source": []
  }
 ],
 "metadata": {
  "kernelspec": {
   "display_name": "Python 3",
   "language": "python",
   "name": "python3"
  },
  "language_info": {
   "codemirror_mode": {
    "name": "ipython",
    "version": 3
   },
   "file_extension": ".py",
   "mimetype": "text/x-python",
   "name": "python",
   "nbconvert_exporter": "python",
   "pygments_lexer": "ipython3",
   "version": "3.5.2"
  }
 },
 "nbformat": 4,
 "nbformat_minor": 2
}
