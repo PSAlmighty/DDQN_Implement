{
 "cells": [
  {
   "cell_type": "code",
   "execution_count": 1,
   "metadata": {},
   "outputs": [],
   "source": [
    "#coding=utf-8\n",
    "import zmq\n",
    "import sys\n",
    "import numpy as np\n",
    "import pandas as pd\n",
    "from time import sleep\n",
    "import DQN_Agent_pb2 \n"
   ]
  },
  {
   "cell_type": "code",
   "execution_count": 2,
   "metadata": {},
   "outputs": [],
   "source": [
    "context = zmq.Context()\n",
    "socket = context.socket(zmq.SUB)\n",
    "socket.connect('ipc:///tmp/mdcumd')\n",
    "socket.setsockopt_string(zmq.SUBSCRIBE,'')\n",
    "price_raw_data = []\n",
    "volume_raw_data = []\n",
    "timestamp_raw_data = []\n",
    "\n",
    "i = 0\n",
    "AGENT_ACTION = DQN_Agent_pb2.Agent_Info()\n",
    "MD =DQN_Agent_pb2.MD_Info()"
   ]
  },
  {
   "cell_type": "code",
   "execution_count": null,
   "metadata": {},
   "outputs": [
    {
     "name": "stderr",
     "output_type": "stream",
     "text": [
      "/usr/local/lib/python3.5/dist-packages/ipykernel_launcher.py:5: RuntimeWarning: Unexpected end-group tag: Not all data was converted\n",
      "  \"\"\"\n"
     ]
    }
   ],
   "source": [
    "while(True):\n",
    "    #print(i)\n",
    "    i += 1\n",
    "    r_msg = socket.recv()\n",
    "    MD.ParseFromString(r_msg)\n",
    "    \n",
    "    timestamp_raw_data.append(MD.MD_Timestamp)\n",
    "    volume_raw_data.append(MD.volume)\n",
    "    price_raw_data.append(MD.last_price)\n",
    "    \n",
    "    if i % 10 == 0:\n",
    "        pd_md_data = pd.DataFrame()\n",
    "        pd_md_data['TradeTime'] = timestamp_raw_data\n",
    "        pd_md_data['last_price'] = price_raw_data\n",
    "        pd_md_data['volume'] = volume_raw_data\n",
    "        pd_md_data.set_index(pd_md_data.TradeTime)\n",
    "        path = MD.MD_Instrument +'.csv'\n",
    "        pd_md_data.to_csv(path,index = 0,mode = 'a')"
   ]
  },
  {
   "cell_type": "code",
   "execution_count": null,
   "metadata": {},
   "outputs": [],
   "source": []
  },
  {
   "cell_type": "code",
   "execution_count": null,
   "metadata": {},
   "outputs": [],
   "source": []
  }
 ],
 "metadata": {
  "kernelspec": {
   "display_name": "Python 3",
   "language": "python",
   "name": "python3"
  },
  "language_info": {
   "codemirror_mode": {
    "name": "ipython",
    "version": 3
   },
   "file_extension": ".py",
   "mimetype": "text/x-python",
   "name": "python",
   "nbconvert_exporter": "python",
   "pygments_lexer": "ipython3",
   "version": "3.5.2"
  }
 },
 "nbformat": 4,
 "nbformat_minor": 2
}
