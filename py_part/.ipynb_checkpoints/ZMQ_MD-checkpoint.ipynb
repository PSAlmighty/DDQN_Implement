{
 "cells": [
  {
   "cell_type": "code",
   "execution_count": 1,
   "metadata": {},
   "outputs": [],
   "source": [
    "#coding=utf-8\n",
    "import os\n",
    "import zmq\n",
    "import sys\n",
    "import time\n",
    "import numpy as np\n",
    "import pandas as pd\n",
    "from time import sleep\n",
    "import DQN_Agent_pb2 \n"
   ]
  },
  {
   "cell_type": "code",
   "execution_count": 2,
   "metadata": {},
   "outputs": [],
   "source": [
    "context = zmq.Context()\n",
    "socket = context.socket(zmq.SUB)\n",
    "socket.connect('ipc:///tmp/mdcumd')\n",
    "socket.setsockopt_string(zmq.SUBSCRIBE,'')\n",
    "price_raw_data = []\n",
    "volume_raw_data = []\n",
    "timestamp_raw_data = []\n",
    "\n",
    "i = 0\n",
    "resample_output_enable = True\n",
    "last_time_stamp_mod = 0\n",
    "\n",
    "AGENT_ACTION = DQN_Agent_pb2.Agent_Info()\n",
    "MD =DQN_Agent_pb2.MD_Info()"
   ]
  },
  {
   "cell_type": "code",
   "execution_count": null,
   "metadata": {},
   "outputs": [],
   "source": [
    "while(True):\n",
    "    #print(i)\n",
    "    i += 1\n",
    "    r_msg = socket.recv()\n",
    "    MD.ParseFromString(r_msg)\n",
    "    \n",
    "    timestamp_raw_data.append(MD.MD_Timestamp)\n",
    "    volume_raw_data.append(MD.volume)\n",
    "    price_raw_data.append(MD.last_price)\n",
    "    \n",
    "    if i % 10 == 0:\n",
    "        if int(time.strftime('%M',time.localtime(time.time()))) % 3 != last_time_stamp_mod:\n",
    "            resample_output_enable = True\n",
    "            last_time_stamp_mod = int(time.strftime('%M',time.localtime(time.time()))) % 3\n",
    "        \n",
    "        pd_md_data = pd.DataFrame()\n",
    "        pd_md_data['TradeTime'] = timestamp_raw_data\n",
    "        pd_md_data['last_price'] = price_raw_data\n",
    "        pd_md_data['volume'] = volume_raw_data\n",
    "        pd_md_data.set_index(pd_md_data.TradeTime)\n",
    "        paths = MD.MD_Instrument +'.csv'\n",
    "        \n",
    "        if os.path.exists(paths) == True:\n",
    "            pd_md_data.to_csv(paths,index = 0,mode = 'a',header = False)\n",
    "        else:\n",
    "            pd_md_data.to_csv(paths,index = 0,mode = 'a',header = True)\n",
    "            \n",
    "        if int(time.strftime('%M',time.localtime(time.time()))) % 3 == 0 and resample_output_enable == True:\n",
    "            pd_resample_data = pd.read_csv(paths, encoding=\"gbk\", engine='c')\n",
    "            pd_resample_data['trading_point'] = pd.to_datetime(pd_resample_data.TradeTime)\n",
    "            pd_resample_data = pd_resample_data.set_index(pd_resample_data.trading_point)\n",
    "            \n",
    "            pd_time =  pd_resample_data['trading_point'].resample('15min')\n",
    "            pd_ohlc = pd_resample_data['last_price'].resample('15min').ohlc()\n",
    "            pd_vol = pd_resample_data['volume'].resample('15min').sum()\n",
    "            \n",
    "            pd_resample_data = pd.concat([pd_time,pd_ohlc,pd_vol], axis=1)\n",
    "            pd_resample_data = pd_resample_data.set_index(pd_time)\n",
    "            path_resample = MD.MD_Instrument +'_resample.csv'\n",
    "            \n",
    "            if os.path.exists(path_resample) == True:\n",
    "                pd_resample_data.to_csv(path_resample,index = 0,mode = 'a',header = False)\n",
    "            else:\n",
    "                pd_resample_data.to_csv(path_resample,index = 0,mode = 'a',header = True)\n",
    "                \n",
    "            resample_output_enable = False\n",
    "            \n",
    "        price_raw_data = []\n",
    "        volume_raw_data = []\n",
    "        timestamp_raw_data = []"
   ]
  },
  {
   "cell_type": "code",
   "execution_count": null,
   "metadata": {},
   "outputs": [],
   "source": []
  },
  {
   "cell_type": "code",
   "execution_count": null,
   "metadata": {},
   "outputs": [],
   "source": []
  }
 ],
 "metadata": {
  "kernelspec": {
   "display_name": "Python 3",
   "language": "python",
   "name": "python3"
  },
  "language_info": {
   "codemirror_mode": {
    "name": "ipython",
    "version": 3
   },
   "file_extension": ".py",
   "mimetype": "text/x-python",
   "name": "python",
   "nbconvert_exporter": "python",
   "pygments_lexer": "ipython3",
   "version": "3.5.2"
  }
 },
 "nbformat": 4,
 "nbformat_minor": 2
}
