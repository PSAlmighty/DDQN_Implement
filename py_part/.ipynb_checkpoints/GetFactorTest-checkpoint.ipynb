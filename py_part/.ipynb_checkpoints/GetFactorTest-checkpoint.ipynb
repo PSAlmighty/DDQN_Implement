{
 "cells": [
  {
   "cell_type": "code",
   "execution_count": 1,
   "metadata": {},
   "outputs": [],
   "source": [
    "import numpy as np\n",
    "import pandas as pd\n",
    "import sys\n",
    "import time\n",
    "sys.path.append(\"..\")\n",
    "\n",
    "from emulator.env_data import high2low, fix_data\n",
    "from emulator.env_factor import get_factors\n",
    "\n",
    "from params import Smp_Size\n",
    "from params import ROLLING_PERIOD_PARAM"
   ]
  },
  {
   "cell_type": "code",
   "execution_count": 2,
   "metadata": {},
   "outputs": [],
   "source": [
    "def GetFactorFrame():\n",
    "    st = time.clock()\n",
    "    quotes = fix_data('./tickdata/HS300_test.csv')\n",
    "    quotes = high2low(quotes, '15min')\n",
    "    daily_quotes = high2low(quotes, '15min')\n",
    "    ed = time.clock()\n",
    "    print(ed-st)\n",
    "\n",
    "    Index = quotes.index\n",
    "    High = quotes.high.values\n",
    "    Low = quotes.low.values\n",
    "    Close = quotes.close.values\n",
    "    Open = quotes.open.values\n",
    "\n",
    "    st = time.clock()\n",
    "    factors = get_factors(Index, Open, Close, High, Low, rolling=150, drop=True)\n",
    "    ed = time.clock()\n",
    "    print(ed-st)\n",
    "    \n",
    "    print(factors[-100:].shape)\n",
    "    print(factors.iloc[-100:].index)\n",
    "    \n",
    "    factors = np.array(factors.iloc[-100:])\n",
    "    np.expand_dims(factors, axis=0)\n",
    "    shape = [1, ROLLING_PERIOD_PARAM, factors.shape[1]]\n",
    "    factors = factors.reshape(shape)\n",
    "    \n",
    "    print(factors.shape)\n",
    "    \n",
    "    return factors\n"
   ]
  },
  {
   "cell_type": "code",
   "execution_count": 3,
   "metadata": {},
   "outputs": [
    {
     "name": "stdout",
     "output_type": "stream",
     "text": [
      "0.06686799999999993\n",
      "(100, 28)\n",
      "DatetimeIndex(['2018-07-06 10:00:00', '2018-07-06 10:15:00',\n",
      "               '2018-07-06 10:30:00', '2018-07-06 10:45:00',\n",
      "               '2018-07-06 11:00:00', '2018-07-06 11:15:00',\n",
      "               '2018-07-06 13:00:00', '2018-07-06 13:15:00',\n",
      "               '2018-07-06 13:30:00', '2018-07-06 13:45:00',\n",
      "               '2018-07-06 14:00:00', '2018-07-06 14:15:00',\n",
      "               '2018-07-06 14:30:00', '2018-07-06 14:45:00',\n",
      "               '2018-07-06 15:00:00', '2018-07-09 09:30:00',\n",
      "               '2018-07-09 09:45:00', '2018-07-09 10:00:00',\n",
      "               '2018-07-09 10:15:00', '2018-07-09 10:30:00',\n",
      "               '2018-07-09 10:45:00', '2018-07-09 11:00:00',\n",
      "               '2018-07-09 11:15:00', '2018-07-09 13:00:00',\n",
      "               '2018-07-09 13:15:00', '2018-07-09 13:30:00',\n",
      "               '2018-07-09 13:45:00', '2018-07-09 14:00:00',\n",
      "               '2018-07-09 14:15:00', '2018-07-09 14:30:00',\n",
      "               '2018-07-09 14:45:00', '2018-07-09 15:00:00',\n",
      "               '2018-07-10 09:30:00', '2018-07-10 09:45:00',\n",
      "               '2018-07-10 10:00:00', '2018-07-10 10:15:00',\n",
      "               '2018-07-10 10:30:00', '2018-07-10 10:45:00',\n",
      "               '2018-07-10 11:00:00', '2018-07-10 11:15:00',\n",
      "               '2018-07-10 13:00:00', '2018-07-10 13:15:00',\n",
      "               '2018-07-10 13:30:00', '2018-07-10 13:45:00',\n",
      "               '2018-07-10 14:00:00', '2018-07-10 14:15:00',\n",
      "               '2018-07-10 14:30:00', '2018-07-10 14:45:00',\n",
      "               '2018-07-10 15:00:00', '2018-07-11 09:30:00',\n",
      "               '2018-07-11 09:45:00', '2018-07-11 10:00:00',\n",
      "               '2018-07-11 10:15:00', '2018-07-11 10:30:00',\n",
      "               '2018-07-11 10:45:00', '2018-07-11 11:00:00',\n",
      "               '2018-07-11 11:15:00', '2018-07-11 13:00:00',\n",
      "               '2018-07-11 13:15:00', '2018-07-11 13:30:00',\n",
      "               '2018-07-11 13:45:00', '2018-07-11 14:00:00',\n",
      "               '2018-07-11 14:15:00', '2018-07-11 14:30:00',\n",
      "               '2018-07-11 14:45:00', '2018-07-11 15:00:00',\n",
      "               '2018-07-12 09:30:00', '2018-07-12 09:45:00',\n",
      "               '2018-07-12 10:00:00', '2018-07-12 10:15:00',\n",
      "               '2018-07-12 10:30:00', '2018-07-12 10:45:00',\n",
      "               '2018-07-12 11:00:00', '2018-07-12 11:15:00',\n",
      "               '2018-07-12 13:00:00', '2018-07-12 13:15:00',\n",
      "               '2018-07-12 13:30:00', '2018-07-12 13:45:00',\n",
      "               '2018-07-12 14:00:00', '2018-07-12 14:15:00',\n",
      "               '2018-07-12 14:30:00', '2018-07-12 14:45:00',\n",
      "               '2018-07-12 15:00:00', '2018-07-13 09:30:00',\n",
      "               '2018-07-13 09:45:00', '2018-07-13 10:00:00',\n",
      "               '2018-07-13 10:15:00', '2018-07-13 10:30:00',\n",
      "               '2018-07-13 10:45:00', '2018-07-13 11:00:00',\n",
      "               '2018-07-13 11:15:00', '2018-07-13 13:00:00',\n",
      "               '2018-07-13 13:15:00', '2018-07-13 13:30:00',\n",
      "               '2018-07-13 13:45:00', '2018-07-13 14:00:00',\n",
      "               '2018-07-13 14:15:00', '2018-07-13 14:30:00',\n",
      "               '2018-07-13 14:45:00', '2018-07-13 15:00:00'],\n",
      "              dtype='datetime64[ns]', name='tradeTime', freq=None)\n",
      "(1, 100, 28)\n",
      "0.12890499999999994\n"
     ]
    }
   ],
   "source": [
    "st = time.clock()\n",
    "f = GetFactorFrame()\n",
    "ed = time.clock()\n",
    "print(ed-st)"
   ]
  },
  {
   "cell_type": "code",
   "execution_count": null,
   "metadata": {},
   "outputs": [],
   "source": []
  }
 ],
 "metadata": {
  "kernelspec": {
   "display_name": "Python 3",
   "language": "python",
   "name": "python3"
  },
  "language_info": {
   "codemirror_mode": {
    "name": "ipython",
    "version": 3
   },
   "file_extension": ".py",
   "mimetype": "text/x-python",
   "name": "python",
   "nbconvert_exporter": "python",
   "pygments_lexer": "ipython3",
   "version": "3.5.2"
  }
 },
 "nbformat": 4,
 "nbformat_minor": 2
}
