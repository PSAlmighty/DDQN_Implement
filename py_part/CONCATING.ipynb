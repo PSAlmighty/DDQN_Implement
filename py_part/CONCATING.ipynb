{
 "cells": [
  {
   "cell_type": "code",
   "execution_count": 1,
   "metadata": {},
   "outputs": [],
   "source": [
    "import os\n",
    "import zmq\n",
    "import sys\n",
    "import time\n",
    "import numpy as np\n",
    "import pandas as pd\n",
    "from time import sleep\n",
    "import DQN_Agent_pb2 "
   ]
  },
  {
   "cell_type": "code",
   "execution_count": 2,
   "metadata": {},
   "outputs": [],
   "source": [
    "def Concat_Historical():\n",
    "    paths_historical = './Historical_DB.csv'\n",
    "    paths_today_resample = './cu1812_resample.csv'\n",
    "    \n",
    "    pd_historical = pd.DataFrame()\n",
    "    pd_today_resample = pd.read_csv(paths_today_resample, encoding=\"gbk\", engine='c')\n",
    "    \n",
    "    if os.path.exists(paths_historical) == True:\n",
    "        pd_historical = pd.read_csv(paths_today_resample, encoding=\"gbk\", engine='c')\n",
    "    else:\n",
    "        pd_historical = pd.DataFrame()\n",
    "            \n",
    "    pd_historical = pd.concat([pd_historical,pd_today_resample], axis = 0)\n",
    "    time_index = pd.to_datetime(pd_historical.TradeTime)\n",
    "    pd_historical = pd_historical.set_index(time_index)\n",
    "    \n",
    "    pd_historical.to_csv(paths_historical,mode = 'w',header = True)"
   ]
  },
  {
   "cell_type": "code",
   "execution_count": 3,
   "metadata": {},
   "outputs": [],
   "source": [
    "Concat_Historical()"
   ]
  },
  {
   "cell_type": "code",
   "execution_count": null,
   "metadata": {},
   "outputs": [],
   "source": []
  }
 ],
 "metadata": {
  "kernelspec": {
   "display_name": "Python 3",
   "language": "python",
   "name": "python3"
  },
  "language_info": {
   "codemirror_mode": {
    "name": "ipython",
    "version": 3
   },
   "file_extension": ".py",
   "mimetype": "text/x-python",
   "name": "python",
   "nbconvert_exporter": "python",
   "pygments_lexer": "ipython3",
   "version": "3.5.2"
  }
 },
 "nbformat": 4,
 "nbformat_minor": 2
}
