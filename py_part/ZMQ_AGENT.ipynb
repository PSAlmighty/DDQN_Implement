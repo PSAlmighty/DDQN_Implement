{
 "cells": [
  {
   "cell_type": "code",
   "execution_count": 1,
   "metadata": {},
   "outputs": [],
   "source": [
    "#coding=utf-8\n",
    "import os\n",
    "import zmq\n",
    "import sys\n",
    "import time\n",
    "import numpy as np\n",
    "import pandas as pd\n",
    "import DQN_Agent_pb2 \n",
    "\n",
    "from time import sleep\n",
    "from IPython.display import clear_output\n",
    "from agent.main import Agent\n"
   ]
  },
  {
   "cell_type": "code",
   "execution_count": 2,
   "metadata": {},
   "outputs": [],
   "source": [
    "context = zmq.Context()\n",
    "socket = context.socket(zmq.REP)\n",
    "socket.bind('ipc:///tmp/asdf')\n",
    "\n",
    "AGENT_ACTION = DQN_Agent_pb2.Agent_Info()\n",
    "a = 0"
   ]
  },
  {
   "cell_type": "code",
   "execution_count": null,
   "metadata": {},
   "outputs": [
    {
     "name": "stdout",
     "output_type": "stream",
     "text": [
      "1\n",
      "2\n",
      "3\n",
      "4\n",
      "5\n",
      "6\n",
      "7\n",
      "8\n"
     ]
    }
   ],
   "source": [
    "while(True):\n",
    "    \n",
    "    r_msg = socket.recv()\n",
    "    #print(r_msg)\n",
    "    \n",
    "    if a % 10 == 0 :\n",
    "        clear_output(True)\n",
    "    \n",
    "    a += 1\n",
    "    a = a % 10\n",
    "    print(a)\n",
    "    AGENT_ACTION.Agent_Action = a\n",
    "    AGENT_ACTION.Current_Position = 1\n",
    "    AGENT_ACTION.Agent_Trading_Instrument = 'cu1812'\n",
    "    AGENT_ACTION.Action_Timestamp = \"123\"\n",
    "    AGENT_ACTION.LatestResult = 1\n",
    "    AGENT_ACTION.msg_pipe_init = 1\n",
    "    \n",
    "    \n",
    "    s_msg = AGENT_ACTION.SerializeToString()\n",
    "    socket.send(s_msg)"
   ]
  },
  {
   "cell_type": "code",
   "execution_count": null,
   "metadata": {},
   "outputs": [],
   "source": []
  },
  {
   "cell_type": "code",
   "execution_count": null,
   "metadata": {},
   "outputs": [],
   "source": []
  }
 ],
 "metadata": {
  "kernelspec": {
   "display_name": "Python 3",
   "language": "python",
   "name": "python3"
  },
  "language_info": {
   "codemirror_mode": {
    "name": "ipython",
    "version": 3
   },
   "file_extension": ".py",
   "mimetype": "text/x-python",
   "name": "python",
   "nbconvert_exporter": "python",
   "pygments_lexer": "ipython3",
   "version": "3.5.2"
  }
 },
 "nbformat": 4,
 "nbformat_minor": 2
}
