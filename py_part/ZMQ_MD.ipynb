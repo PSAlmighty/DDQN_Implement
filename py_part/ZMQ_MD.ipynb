{
 "cells": [
  {
   "cell_type": "code",
   "execution_count": 1,
   "metadata": {},
   "outputs": [],
   "source": [
    "#coding=utf-8\n",
    "import os\n",
    "import zmq\n",
    "import sys\n",
    "import time\n",
    "import numpy as np\n",
    "import pandas as pd\n",
    "from time import sleep\n",
    "import DQN_Agent_pb2 \n"
   ]
  },
  {
   "cell_type": "code",
   "execution_count": 2,
   "metadata": {},
   "outputs": [],
   "source": [
    "context = zmq.Context()\n",
    "socket = context.socket(zmq.SUB)\n",
    "socket.connect('ipc:///tmp/mdcumd')\n",
    "socket.setsockopt_string(zmq.SUBSCRIBE,'')\n",
    "price_raw_data = []\n",
    "volume_raw_data = []\n",
    "timestamp_raw_data = []\n",
    "\n",
    "i = 0\n",
    "resample_output_enable = True\n",
    "last_time_stamp_mod = 0\n",
    "\n",
    "AGENT_ACTION = DQN_Agent_pb2.Agent_Info()\n",
    "MD =DQN_Agent_pb2.MD_Info()"
   ]
  },
  {
   "cell_type": "code",
   "execution_count": null,
   "metadata": {},
   "outputs": [],
   "source": [
    "def IsTradingTime(Time_Clock):\n",
    "    TIME = int(time.strftime(\"%H%M\",Time_Clock))\n",
    "    Ret = False\n",
    "    if TIME >= 930 and TIME <= 1130:\n",
    "        Ret = True\n",
    "    if TIME >= 1330 and TIME <= 1500:\n",
    "        Ret = True\n",
    "    \n",
    "    return Ret"
   ]
  },
  {
   "cell_type": "code",
   "execution_count": 3,
   "metadata": {},
   "outputs": [
    {
     "name": "stderr",
     "output_type": "stream",
     "text": [
      "/usr/local/lib/python3.5/dist-packages/ipykernel_launcher.py:5: RuntimeWarning: Unexpected end-group tag: Not all data was converted\n",
      "  \"\"\"\n"
     ]
    },
    {
     "ename": "KeyboardInterrupt",
     "evalue": "",
     "output_type": "error",
     "traceback": [
      "\u001b[0;31m---------------------------------------------------------------------------\u001b[0m",
      "\u001b[0;31mKeyboardInterrupt\u001b[0m                         Traceback (most recent call last)",
      "\u001b[0;32m<ipython-input-3-f9c375ac7c51>\u001b[0m in \u001b[0;36m<module>\u001b[0;34m()\u001b[0m\n\u001b[1;32m      2\u001b[0m     \u001b[0;31m#print(i)\u001b[0m\u001b[0;34m\u001b[0m\u001b[0;34m\u001b[0m\u001b[0m\n\u001b[1;32m      3\u001b[0m     \u001b[0mi\u001b[0m \u001b[0;34m+=\u001b[0m \u001b[0;36m1\u001b[0m\u001b[0;34m\u001b[0m\u001b[0m\n\u001b[0;32m----> 4\u001b[0;31m     \u001b[0mr_msg\u001b[0m \u001b[0;34m=\u001b[0m \u001b[0msocket\u001b[0m\u001b[0;34m.\u001b[0m\u001b[0mrecv\u001b[0m\u001b[0;34m(\u001b[0m\u001b[0;34m)\u001b[0m\u001b[0;34m\u001b[0m\u001b[0m\n\u001b[0m\u001b[1;32m      5\u001b[0m     \u001b[0mMD\u001b[0m\u001b[0;34m.\u001b[0m\u001b[0mParseFromString\u001b[0m\u001b[0;34m(\u001b[0m\u001b[0mr_msg\u001b[0m\u001b[0;34m)\u001b[0m\u001b[0;34m\u001b[0m\u001b[0m\n\u001b[1;32m      6\u001b[0m \u001b[0;34m\u001b[0m\u001b[0m\n",
      "\u001b[0;32mzmq/backend/cython/socket.pyx\u001b[0m in \u001b[0;36mzmq.backend.cython.socket.Socket.recv\u001b[0;34m()\u001b[0m\n",
      "\u001b[0;32mzmq/backend/cython/socket.pyx\u001b[0m in \u001b[0;36mzmq.backend.cython.socket.Socket.recv\u001b[0;34m()\u001b[0m\n",
      "\u001b[0;32mzmq/backend/cython/socket.pyx\u001b[0m in \u001b[0;36mzmq.backend.cython.socket._recv_copy\u001b[0;34m()\u001b[0m\n",
      "\u001b[0;32m/usr/local/lib/python3.5/dist-packages/zmq/backend/cython/checkrc.pxd\u001b[0m in \u001b[0;36mzmq.backend.cython.checkrc._check_rc\u001b[0;34m()\u001b[0m\n",
      "\u001b[0;31mKeyboardInterrupt\u001b[0m: "
     ]
    }
   ],
   "source": [
    "while(True):\n",
    "    #print(i)\n",
    "    i += 1\n",
    "    r_msg = socket.recv()\n",
    "    MD.ParseFromString(r_msg)\n",
    "    \n",
    "    timestamp_raw_data.append(MD.MD_Timestamp)\n",
    "    volume_raw_data.append(MD.volume)\n",
    "    price_raw_data.append(MD.last_price)\n",
    "    \n",
    "    date = MD.MD_TradingDay\n",
    "    \n",
    "    if i % 10 == 0:\n",
    "        if int(time.strftime('%M',time.localtime(time.time()))) % 3 != last_time_stamp_mod:\n",
    "            resample_output_enable = True\n",
    "            last_time_stamp_mod = int(time.strftime('%M',time.localtime(time.time()))) % 3\n",
    "        \n",
    "        pd_md_data = pd.DataFrame()\n",
    "        pd_md_data['TradeTime'] = timestamp_raw_data\n",
    "        pd_md_data['last_price'] = price_raw_data\n",
    "        pd_md_data['volume'] = volume_raw_data\n",
    "        pd_md_data.set_index(pd_md_data.TradeTime)\n",
    "        paths = MD.MD_Instrument + '_' + str(date) +'.csv'\n",
    "        \n",
    "        if os.path.exists(paths) == True:\n",
    "            pd_md_data.to_csv(paths,index = 0,mode = 'a',header = False)\n",
    "        else:\n",
    "            pd_md_data.to_csv(paths,index = 0,mode = 'a',header = True)\n",
    "            \n",
    "        if int(time.strftime('%M',time.localtime(time.time()))) % 15 == 0 \\\n",
    "            and resample_output_enable == True\\\n",
    "            and IsTradingTime(time.localtime(time.time()) ==True:\n",
    "                \n",
    "            pd_resample_data = pd.read_csv(paths, encoding=\"gbk\", engine='c')\n",
    "            time_index = pd.to_datetime(pd_resample_data.TradeTime)\n",
    "            pd_resample_data = pd_resample_data.set_index(time_index)\n",
    "            \n",
    "            pd_time =  pd_resample_data['TradeTime'].resample('15min')\n",
    "            pd_ohlc = pd_resample_data['last_price'].resample('15min').ohlc()\n",
    "            pd_vol = pd_resample_data['volume'].resample('15min').sum()\n",
    "            \n",
    "            pd_resample_data = pd.concat([pd_ohlc,pd_vol], axis=1)\n",
    "            pd_resample_data.dropna()\n",
    "            path_resample = MD.MD_Instrument + '_' + str(date) +'_resample.csv'\n",
    "            \n",
    "            pd_resample_data.to_csv(path_resample,mode = 'w',header = True)\n",
    "                \n",
    "            resample_output_enable = False\n",
    "            \n",
    "        price_raw_data = []\n",
    "        volume_raw_data = []\n",
    "        timestamp_raw_data = []"
   ]
  },
  {
   "cell_type": "code",
   "execution_count": null,
   "metadata": {},
   "outputs": [],
   "source": []
  },
  {
   "cell_type": "code",
   "execution_count": null,
   "metadata": {},
   "outputs": [],
   "source": []
  }
 ],
 "metadata": {
  "kernelspec": {
   "display_name": "Python 3",
   "language": "python",
   "name": "python3"
  },
  "language_info": {
   "codemirror_mode": {
    "name": "ipython",
    "version": 3
   },
   "file_extension": ".py",
   "mimetype": "text/x-python",
   "name": "python",
   "nbconvert_exporter": "python",
   "pygments_lexer": "ipython3",
   "version": "3.5.2"
  }
 },
 "nbformat": 4,
 "nbformat_minor": 2
}
